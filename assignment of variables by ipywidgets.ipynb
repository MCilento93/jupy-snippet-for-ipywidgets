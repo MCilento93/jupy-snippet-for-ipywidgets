{
 "cells": [
  {
   "cell_type": "markdown",
   "metadata": {},
   "source": [
    "# Use of IPywidgest for setting variables"
   ]
  },
  {
   "cell_type": "markdown",
   "metadata": {},
   "source": [
    "- Method #1\n",
    "<br> with interactive"
   ]
  },
  {
   "cell_type": "code",
   "execution_count": 153,
   "metadata": {
    "scrolled": true
   },
   "outputs": [
    {
     "data": {
      "application/vnd.jupyter.widget-view+json": {
       "model_id": "6ad583bea3724c8881921f95a5cff183",
       "version_major": 2,
       "version_minor": 0
      },
      "text/plain": [
       "interactive(children=(IntSlider(value=1, description='x value', max=3, min=-1), Output()), _dom_classes=('widg…"
      ]
     },
     "metadata": {},
     "output_type": "display_data"
    },
    {
     "data": {
      "application/vnd.jupyter.widget-view+json": {
       "model_id": "2c9ed2d9ccd543e489ec4034792733a8",
       "version_major": 2,
       "version_minor": 0
      },
      "text/plain": [
       "interactive(children=(Checkbox(value=True, description='y value'), Output()), _dom_classes=('widget-interact',…"
      ]
     },
     "metadata": {},
     "output_type": "display_data"
    },
    {
     "data": {
      "application/vnd.jupyter.widget-view+json": {
       "model_id": "caf2149133ec40ae9e7d7b01f6b53575",
       "version_major": 2,
       "version_minor": 0
      },
      "text/plain": [
       "interactive(children=(Text(value='hello github', description='z value'), Output()), _dom_classes=('widget-inte…"
      ]
     },
     "metadata": {},
     "output_type": "display_data"
    }
   ],
   "source": [
    "# module importing\n",
    "from __future__ import print_function\n",
    "from ipywidgets import interact, interactive, fixed, interact_manual\n",
    "import ipywidgets as widgets\n",
    "\n",
    "# auxiliary function\n",
    "def f(x):\n",
    "    return x\n",
    "\n",
    "# build GUI with interactive(s) \n",
    "x = interactive(f, x=1)\n",
    "x.children[0].description = 'x value'\n",
    "display(x)\n",
    "\n",
    "y = interactive(f, x=True)\n",
    "y.children[0].description = 'y value'\n",
    "display(y)\n",
    "\n",
    "z = interactive(f, x='Hello GitHub')\n",
    "z.children[0].description = 'z value'\n",
    "display(z)"
   ]
  },
  {
   "cell_type": "code",
   "execution_count": 172,
   "metadata": {},
   "outputs": [],
   "source": [
    "# declare variables\n",
    "x_variable=x.result\n",
    "y_variable=y.result\n",
    "z_variable=z.result\n",
    "\n",
    "# your program below \n",
    "# ..."
   ]
  },
  {
   "cell_type": "markdown",
   "metadata": {},
   "source": [
    "\n",
    "- Method #2\n",
    "<br> by mean of setters and 'interact'"
   ]
  },
  {
   "cell_type": "code",
   "execution_count": 43,
   "metadata": {},
   "outputs": [
    {
     "data": {
      "application/vnd.jupyter.widget-view+json": {
       "model_id": "a3c602b1bbbd4e79bbf3e54c1cb4329f",
       "version_major": 2,
       "version_minor": 0
      },
      "text/plain": [
       "interactive(children=(Checkbox(value=True, description='x'), Output()), _dom_classes=('widget-interact',))"
      ]
     },
     "metadata": {},
     "output_type": "display_data"
    },
    {
     "data": {
      "application/vnd.jupyter.widget-view+json": {
       "model_id": "02531166cc00491da95740b01eb5a82d",
       "version_major": 2,
       "version_minor": 0
      },
      "text/plain": [
       "interactive(children=(FloatSlider(value=0.0, description='x', max=1.0, step=0.01), Output()), _dom_classes=('w…"
      ]
     },
     "metadata": {},
     "output_type": "display_data"
    },
    {
     "data": {
      "application/vnd.jupyter.widget-view+json": {
       "model_id": "c484e9cc120d49b89c793a7562018f65",
       "version_major": 2,
       "version_minor": 0
      },
      "text/plain": [
       "interactive(children=(Text(value='Hello GitHub', description='x'), Output()), _dom_classes=('widget-interact',…"
      ]
     },
     "metadata": {},
     "output_type": "display_data"
    }
   ],
   "source": [
    "# module importing\n",
    "from __future__ import print_function\n",
    "from ipywidgets import interact, interactive, fixed, interact_manual\n",
    "import ipywidgets as widgets\n",
    "\n",
    "# declare variables\n",
    "var_one=True\n",
    "var_two=0\n",
    "var_three='check stringa'\n",
    "\n",
    "# write setters\n",
    "def setter_var_one(x):\n",
    "    global var_one\n",
    "    var_one=x\n",
    "\n",
    "def setter_var_two(x):\n",
    "    global var_two\n",
    "    var_two=x\n",
    "    \n",
    "def setter_var_three(x):\n",
    "    global var_three\n",
    "    var_three=x\n",
    "\n",
    "# build GUI with interact(s)\n",
    "interact(setter_var_one, x=True).widget.children[0].description = 'Var. one value'\n",
    "interact(setter_var_two, x=(0,1,0.01)).widget.children[0].description = 'Var. two value'\n",
    "interact(setter_var_three,x='Hello GitHub').widget.children[0].description = 'Var. three value'"
   ]
  },
  {
   "cell_type": "code",
   "execution_count": 179,
   "metadata": {},
   "outputs": [],
   "source": [
    "# your program below \n",
    "# ..."
   ]
  },
  {
   "cell_type": "code",
   "execution_count": 44,
   "metadata": {},
   "outputs": [],
   "source": [
    "def get_variable_name(variable):\n",
    "    results = []\n",
    "    globalVariables=globals().copy()\n",
    "    for globalVariable in globalVariables:\n",
    "        if id(variable) == id(globalVariables[globalVariable]):\n",
    "            results.append(globalVariable)\n",
    "    return results[0]"
   ]
  },
  {
   "cell_type": "markdown",
   "metadata": {},
   "source": [
    "\n",
    "- Method #3\n",
    "<br> using pure widgets.\n",
    "<br> More widgets and tips here https://ipywidgets.readthedocs.io/en/latest/examples/Widget%20List.html"
   ]
  },
  {
   "cell_type": "code",
   "execution_count": 45,
   "metadata": {},
   "outputs": [
    {
     "data": {
      "application/vnd.jupyter.widget-view+json": {
       "model_id": "71d199e0400a4aa1b09801f7a5aef905",
       "version_major": 2,
       "version_minor": 0
      },
      "text/plain": [
       "IntSlider(value=7, continuous_update=False, description='IntSlider:', max=10)"
      ]
     },
     "metadata": {},
     "output_type": "display_data"
    },
    {
     "data": {
      "application/vnd.jupyter.widget-view+json": {
       "model_id": "83c488530efe46a38a5606b6c5320aa3",
       "version_major": 2,
       "version_minor": 0
      },
      "text/plain": [
       "FloatSlider(value=7.5, continuous_update=False, description='FloatSlider:', max=10.0, readout_format='.1f')"
      ]
     },
     "metadata": {},
     "output_type": "display_data"
    },
    {
     "data": {
      "application/vnd.jupyter.widget-view+json": {
       "model_id": "d1df9486766d4bcfb88d9af31ca797af",
       "version_major": 2,
       "version_minor": 0
      },
      "text/plain": [
       "BoundedIntText(value=7, description='BoundedIntText:', max=10)"
      ]
     },
     "metadata": {},
     "output_type": "display_data"
    },
    {
     "data": {
      "application/vnd.jupyter.widget-view+json": {
       "model_id": "3a01e468c0a24eac9b7b60adc17a3997",
       "version_major": 2,
       "version_minor": 0
      },
      "text/plain": [
       "ToggleButton(value=False, description='ToggleButton', icon='check', tooltip='Description')"
      ]
     },
     "metadata": {},
     "output_type": "display_data"
    },
    {
     "data": {
      "application/vnd.jupyter.widget-view+json": {
       "model_id": "3ca2d7035a574e9fabbc3d6c36bce131",
       "version_major": 2,
       "version_minor": 0
      },
      "text/plain": [
       "Checkbox(value=False, description='Checkbox', indent=False)"
      ]
     },
     "metadata": {},
     "output_type": "display_data"
    },
    {
     "data": {
      "application/vnd.jupyter.widget-view+json": {
       "model_id": "bea7e7c7ef2c4a6e9a79c7274c792a3c",
       "version_major": 2,
       "version_minor": 0
      },
      "text/plain": [
       "Dropdown(description='Dropdown:', index=1, options=('1', '2', '3'), value='2')"
      ]
     },
     "metadata": {},
     "output_type": "display_data"
    },
    {
     "data": {
      "application/vnd.jupyter.widget-view+json": {
       "model_id": "83490cf11be24dbfb45dcf9022855974",
       "version_major": 2,
       "version_minor": 0
      },
      "text/plain": [
       "RadioButtons(description='RadioButtons:', options=('pepperoni', 'pineapple', 'anchovies'), value='pepperoni')"
      ]
     },
     "metadata": {},
     "output_type": "display_data"
    },
    {
     "data": {
      "application/vnd.jupyter.widget-view+json": {
       "model_id": "348db39f493444659c5c53029fb7788b",
       "version_major": 2,
       "version_minor": 0
      },
      "text/plain": [
       "Text(value='Hello GitHub', description='Text:', placeholder='Type something')"
      ]
     },
     "metadata": {},
     "output_type": "display_data"
    },
    {
     "data": {
      "application/vnd.jupyter.widget-view+json": {
       "model_id": "886233ab0cc6402683387a2b715585c4",
       "version_major": 2,
       "version_minor": 0
      },
      "text/plain": [
       "ColorPicker(value='blue', description='Pick a color')"
      ]
     },
     "metadata": {},
     "output_type": "display_data"
    },
    {
     "data": {
      "application/vnd.jupyter.widget-view+json": {
       "model_id": "36dd56be561e4fca9cdabc0bdc3a9872",
       "version_major": 2,
       "version_minor": 0
      },
      "text/plain": [
       "FileUpload(value={}, description='Upload')"
      ]
     },
     "metadata": {},
     "output_type": "display_data"
    },
    {
     "data": {
      "application/vnd.jupyter.widget-view+json": {
       "model_id": "2e8144833b014edb89d5a175d4620c3c",
       "version_major": 2,
       "version_minor": 0
      },
      "text/plain": [
       "DatePicker(value=None, description='DatePicker')"
      ]
     },
     "metadata": {},
     "output_type": "display_data"
    }
   ],
   "source": [
    "# module importing\n",
    "import ipywidgets as widgets\n",
    "from IPython.display import display\n",
    "\n",
    "# build GUI with widget(s)\n",
    "IntSlider=widgets.IntSlider(\n",
    "    value=7,\n",
    "    min=0,\n",
    "    max=10,\n",
    "    step=1,\n",
    "    description='IntSlider:',\n",
    "    disabled=False,\n",
    "    continuous_update=False,\n",
    "    orientation='horizontal',\n",
    "    readout=True,\n",
    "    readout_format='d'\n",
    ")\n",
    "display(IntSlider)\n",
    "\n",
    "\n",
    "FloatSlider=widgets.FloatSlider(\n",
    "    value=7.5,\n",
    "    min=0,\n",
    "    max=10.0,\n",
    "    step=0.1,\n",
    "    description='FloatSlider:',\n",
    "    disabled=False,\n",
    "    continuous_update=False,\n",
    "    orientation='horizontal',\n",
    "    readout=True,\n",
    "    readout_format='.1f',\n",
    ")\n",
    "display(FloatSlider)\n",
    "\n",
    "BoundedIntText=widgets.BoundedIntText(\n",
    "    value=7,\n",
    "    min=0,\n",
    "    max=10,\n",
    "    step=1,\n",
    "    description='BoundedIntText:',\n",
    "    disabled=False\n",
    ")\n",
    "display(BoundedIntText)\n",
    "\n",
    "ToggleButton=widgets.ToggleButton(\n",
    "    value=False,\n",
    "    description='ToggleButton',\n",
    "    disabled=False,\n",
    "    button_style='', # 'success', 'info', 'warning', 'danger' or ''\n",
    "    tooltip='Description',\n",
    "    icon='check' # (FontAwesome names without the `fa-` prefix)\n",
    ")\n",
    "display(ToggleButton)\n",
    "\n",
    "Checkbox=widgets.Checkbox(\n",
    "    value=False,\n",
    "    description='Checkbox',\n",
    "    disabled=False,\n",
    "    indent=False\n",
    ")\n",
    "display(Checkbox)\n",
    "\n",
    "\n",
    "Dropdown=widgets.Dropdown(\n",
    "    options=['1', '2', '3'],\n",
    "    value='2',\n",
    "    description='Dropdown:',\n",
    "    disabled=False,\n",
    ")\n",
    "display(Dropdown)\n",
    "\n",
    "RadioButtons=widgets.RadioButtons(\n",
    "    options=['pepperoni', 'pineapple', 'anchovies'],\n",
    "#    value='pineapple', # Defaults to 'pineapple'\n",
    "#    layout={'width': 'max-content'}, # If the items' names are long\n",
    "    description='RadioButtons:',\n",
    "    disabled=False\n",
    ")\n",
    "display(RadioButtons)\n",
    "\n",
    "\n",
    "Text=widgets.Text(\n",
    "    value='Hello GitHub',\n",
    "    placeholder='Type something',\n",
    "    description='Text:',\n",
    "    disabled=False\n",
    ")\n",
    "display(Text)\n",
    "\n",
    "ColorPicker=widgets.ColorPicker(\n",
    "    concise=False,\n",
    "    description='Pick a color',\n",
    "    value='blue',\n",
    "    disabled=False\n",
    ")\n",
    "display(ColorPicker)\n",
    "\n",
    "FileUpload=widgets.FileUpload(\n",
    "    accept='',  # Accepted file extension e.g. '.txt', '.pdf', 'image/*', 'image/*,.pdf'\n",
    "    multiple=False  # True to accept multiple files upload else False\n",
    ")\n",
    "display(FileUpload)\n",
    "\n",
    "\n",
    "DatePicker=widgets.DatePicker(\n",
    "    description='DatePicker',\n",
    "    disabled=False\n",
    ")\n",
    "display(DatePicker)"
   ]
  },
  {
   "cell_type": "code",
   "execution_count": null,
   "metadata": {},
   "outputs": [],
   "source": [
    "# retreive the values\n",
    "var1=IntSlider.value\n",
    "var2=FloatSlider.value\n",
    "var3=BoundedIntText.value\n",
    "var3=ToggleButton.value\n",
    "var5=Checkbox.value\n",
    "var6=Dropdown.value\n",
    "var7=RadioButtons.value\n",
    "var8=Text.value\n",
    "var9=ColorPicker.value\n",
    "var10=FileUpload.valueù\n",
    "var11=DatePicker.value\n",
    "\n",
    "# your program below \n",
    "# ..."
   ]
  }
 ],
 "metadata": {
  "kernelspec": {
   "display_name": "Python 3",
   "language": "python",
   "name": "python3"
  },
  "language_info": {
   "codemirror_mode": {
    "name": "ipython",
    "version": 3
   },
   "file_extension": ".py",
   "mimetype": "text/x-python",
   "name": "python",
   "nbconvert_exporter": "python",
   "pygments_lexer": "ipython3",
   "version": "3.7.3"
  }
 },
 "nbformat": 4,
 "nbformat_minor": 4
}
